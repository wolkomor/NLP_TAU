{
 "cells": [
  {
   "cell_type": "code",
   "execution_count": 20,
   "metadata": {},
   "outputs": [],
   "source": [
    "import pandas as pd\n",
    "import glob\n",
    "import matplotlib.pyplot as plt\n",
    "from pathlib import Path"
   ]
  },
  {
   "cell_type": "code",
   "execution_count": 21,
   "metadata": {},
   "outputs": [],
   "source": [
    "ROOT_PATH_DATA = r\"Fake-news-detection-ny+guar+kaggle/DataSets/\""
   ]
  },
  {
   "cell_type": "code",
   "execution_count": 22,
   "metadata": {},
   "outputs": [],
   "source": [
    "def preprocessing_cloumns():\n",
    "    df_fake = pd.read_csv(f\"{ROOT_PATH_DATA}data/fake.csv\")\n",
    "    df_fake.rename(columns={\"published\": \"date\"},inplace=True)\n",
    "    df_fake['source'] = \"kaggle\"\n",
    "    df_fake['class']=1\n",
    "    df_fake.to_csv(f\"{ROOT_PATH_DATA}data/fake.csv\",index=False)\n",
    "    df_ny = pd.read_csv(f\"{ROOT_PATH_DATA}data/nyt_unclean.csv\")\n",
    "    df_ny['source']=\"ny\"\n",
    "    df_ny['class']=0\n",
    "    df_ny.to_csv(f\"{ROOT_PATH_DATA}data/nyt_unclean.csv\",index=False)\n",
    "    df_guardian = pd.read_csv(f\"{ROOT_PATH_DATA}data/GuardianUncleaned.csv\")\n",
    "    df_guardian['source']=\"df_guardian\"\n",
    "    df_guardian['class']=0\n",
    "    df_guardian.to_csv(f\"{ROOT_PATH_DATA}data/GuardianUncleaned.csv\",index=False)"
   ]
  },
  {
   "cell_type": "code",
   "execution_count": 30,
   "metadata": {},
   "outputs": [],
   "source": [
    "def create_combined_data():\n",
    "    path_data = Path(f\"{ROOT_PATH_DATA}combined_data.csv\")\n",
    "    if not path_data.exists():\n",
    "        #path_data = Path(f\"C:\\Users\\or\\PycharmProjects\\NLP_TAU\\Project - Fake News Detection\\Fake-news-detection-ny+guar+kaggle\\DataSets\\data\\combined_data_all.csv\")\n",
    "        filenames = [i for i in glob.glob(f\"{ROOT_PATH_DATA}\\data\\*.csv\")]\n",
    "        combined_csv = pd.concat([pd.read_csv(f, usecols=[\"text\",\"title\",\"date\",\"source\",\"class\"]) for f in filenames])\n",
    "        combined_csv.rename(columns={'class':'label'},inplace=True)\n",
    "        combined_csv.to_csv(f\"{ROOT_PATH_DATA}combined_data.csv\", index=False)\n",
    "        combined_csv.sample(frac=0.5).to_csv(f\"{ROOT_PATH_DATA}combined_data_sample.csv\", index=False)"
   ]
  },
  {
   "cell_type": "code",
   "execution_count": 31,
   "metadata": {},
   "outputs": [
    {
     "name": "stderr",
     "output_type": "stream",
     "text": [
      "C:\\Users\\or\\Anaconda3\\lib\\site-packages\\ipykernel_launcher.py:6: FutureWarning: Sorting because non-concatenation axis is not aligned. A future version\n",
      "of pandas will change to not sort by default.\n",
      "\n",
      "To accept the future behavior, pass 'sort=False'.\n",
      "\n",
      "To retain the current behavior and silence the warning, pass 'sort=True'.\n",
      "\n",
      "  \n"
     ]
    }
   ],
   "source": [
    "preprocessing_cloumns()\n",
    "create_combined_data()"
   ]
  },
  {
   "cell_type": "code",
   "execution_count": 32,
   "metadata": {},
   "outputs": [],
   "source": [
    "combined_csv = pd.read_csv(f\"{ROOT_PATH_DATA}combined_data.csv\")"
   ]
  },
  {
   "cell_type": "code",
   "execution_count": 33,
   "metadata": {},
   "outputs": [
    {
     "data": {
      "text/html": [
       "<div>\n",
       "<style scoped>\n",
       "    .dataframe tbody tr th:only-of-type {\n",
       "        vertical-align: middle;\n",
       "    }\n",
       "\n",
       "    .dataframe tbody tr th {\n",
       "        vertical-align: top;\n",
       "    }\n",
       "\n",
       "    .dataframe thead th {\n",
       "        text-align: right;\n",
       "    }\n",
       "</style>\n",
       "<table border=\"1\" class=\"dataframe\">\n",
       "  <thead>\n",
       "    <tr style=\"text-align: right;\">\n",
       "      <th></th>\n",
       "      <th>label</th>\n",
       "      <th>date</th>\n",
       "      <th>source</th>\n",
       "      <th>text</th>\n",
       "      <th>title</th>\n",
       "    </tr>\n",
       "  </thead>\n",
       "  <tbody>\n",
       "    <tr>\n",
       "      <th>0</th>\n",
       "      <td>1</td>\n",
       "      <td>2016-10-26T21:41:00.000+03:00</td>\n",
       "      <td>kaggle</td>\n",
       "      <td>Print They should pay all the back all the mon...</td>\n",
       "      <td>Muslims BUSTED: They Stole Millions In Gov’t B...</td>\n",
       "    </tr>\n",
       "    <tr>\n",
       "      <th>1</th>\n",
       "      <td>1</td>\n",
       "      <td>2016-10-29T08:47:11.259+03:00</td>\n",
       "      <td>kaggle</td>\n",
       "      <td>Why Did Attorney General Loretta Lynch Plead T...</td>\n",
       "      <td>Re: Why Did Attorney General Loretta Lynch Ple...</td>\n",
       "    </tr>\n",
       "    <tr>\n",
       "      <th>2</th>\n",
       "      <td>1</td>\n",
       "      <td>2016-10-31T01:41:49.479+02:00</td>\n",
       "      <td>kaggle</td>\n",
       "      <td>Red State : \\nFox News Sunday reported this mo...</td>\n",
       "      <td>BREAKING: Weiner Cooperating With FBI On Hilla...</td>\n",
       "    </tr>\n",
       "    <tr>\n",
       "      <th>3</th>\n",
       "      <td>1</td>\n",
       "      <td>2016-11-01T05:22:00.000+02:00</td>\n",
       "      <td>kaggle</td>\n",
       "      <td>Email Kayla Mueller was a prisoner and torture...</td>\n",
       "      <td>PIN DROP SPEECH BY FATHER OF DAUGHTER Kidnappe...</td>\n",
       "    </tr>\n",
       "    <tr>\n",
       "      <th>4</th>\n",
       "      <td>1</td>\n",
       "      <td>2016-11-01T21:56:00.000+02:00</td>\n",
       "      <td>kaggle</td>\n",
       "      <td>Email HEALTHCARE REFORM TO MAKE AMERICA GREAT ...</td>\n",
       "      <td>FANTASTIC! TRUMP'S 7 POINT PLAN To Reform Heal...</td>\n",
       "    </tr>\n",
       "    <tr>\n",
       "      <th>...</th>\n",
       "      <td>...</td>\n",
       "      <td>...</td>\n",
       "      <td>...</td>\n",
       "      <td>...</td>\n",
       "      <td>...</td>\n",
       "    </tr>\n",
       "    <tr>\n",
       "      <th>44061</th>\n",
       "      <td>0</td>\n",
       "      <td>2014-04-13T00:00:00Z</td>\n",
       "      <td>ny</td>\n",
       "      <td>Among the pioneering moguls of Hollywood, Carl...</td>\n",
       "      <td>Laemmle’s List: A Mogul’s Heroism</td>\n",
       "    </tr>\n",
       "    <tr>\n",
       "      <th>44062</th>\n",
       "      <td>0</td>\n",
       "      <td>2014-04-12T00:00:00Z</td>\n",
       "      <td>ny</td>\n",
       "      <td>With Moscow bearing down, Kiev seeks an econom...</td>\n",
       "      <td>Ukraine on the Brink</td>\n",
       "    </tr>\n",
       "    <tr>\n",
       "      <th>44063</th>\n",
       "      <td>0</td>\n",
       "      <td>2014-04-12T00:00:00Z</td>\n",
       "      <td>ny</td>\n",
       "      <td>Re “Bye-bye, baby” (Review, April 5) by Michae...</td>\n",
       "      <td>Birth Rates and the Environment</td>\n",
       "    </tr>\n",
       "    <tr>\n",
       "      <th>44064</th>\n",
       "      <td>0</td>\n",
       "      <td>2014-04-12T00:00:00Z</td>\n",
       "      <td>ny</td>\n",
       "      <td>North Korea signaled to Japan early this month...</td>\n",
       "      <td>Signals From North Korea</td>\n",
       "    </tr>\n",
       "    <tr>\n",
       "      <th>44065</th>\n",
       "      <td>0</td>\n",
       "      <td>2014-04-12T00:00:00Z</td>\n",
       "      <td>ny</td>\n",
       "      <td>NAPLES, Italy —  Spring is here. In southern I...</td>\n",
       "      <td>Why No One Goes to Naples</td>\n",
       "    </tr>\n",
       "  </tbody>\n",
       "</table>\n",
       "<p>44066 rows × 5 columns</p>\n",
       "</div>"
      ],
      "text/plain": [
       "       label                           date  source  \\\n",
       "0          1  2016-10-26T21:41:00.000+03:00  kaggle   \n",
       "1          1  2016-10-29T08:47:11.259+03:00  kaggle   \n",
       "2          1  2016-10-31T01:41:49.479+02:00  kaggle   \n",
       "3          1  2016-11-01T05:22:00.000+02:00  kaggle   \n",
       "4          1  2016-11-01T21:56:00.000+02:00  kaggle   \n",
       "...      ...                            ...     ...   \n",
       "44061      0           2014-04-13T00:00:00Z      ny   \n",
       "44062      0           2014-04-12T00:00:00Z      ny   \n",
       "44063      0           2014-04-12T00:00:00Z      ny   \n",
       "44064      0           2014-04-12T00:00:00Z      ny   \n",
       "44065      0           2014-04-12T00:00:00Z      ny   \n",
       "\n",
       "                                                    text  \\\n",
       "0      Print They should pay all the back all the mon...   \n",
       "1      Why Did Attorney General Loretta Lynch Plead T...   \n",
       "2      Red State : \\nFox News Sunday reported this mo...   \n",
       "3      Email Kayla Mueller was a prisoner and torture...   \n",
       "4      Email HEALTHCARE REFORM TO MAKE AMERICA GREAT ...   \n",
       "...                                                  ...   \n",
       "44061  Among the pioneering moguls of Hollywood, Carl...   \n",
       "44062  With Moscow bearing down, Kiev seeks an econom...   \n",
       "44063  Re “Bye-bye, baby” (Review, April 5) by Michae...   \n",
       "44064  North Korea signaled to Japan early this month...   \n",
       "44065  NAPLES, Italy —  Spring is here. In southern I...   \n",
       "\n",
       "                                                   title  \n",
       "0      Muslims BUSTED: They Stole Millions In Gov’t B...  \n",
       "1      Re: Why Did Attorney General Loretta Lynch Ple...  \n",
       "2      BREAKING: Weiner Cooperating With FBI On Hilla...  \n",
       "3      PIN DROP SPEECH BY FATHER OF DAUGHTER Kidnappe...  \n",
       "4      FANTASTIC! TRUMP'S 7 POINT PLAN To Reform Heal...  \n",
       "...                                                  ...  \n",
       "44061                  Laemmle’s List: A Mogul’s Heroism  \n",
       "44062                               Ukraine on the Brink  \n",
       "44063                    Birth Rates and the Environment  \n",
       "44064                           Signals From North Korea  \n",
       "44065                          Why No One Goes to Naples  \n",
       "\n",
       "[44066 rows x 5 columns]"
      ]
     },
     "execution_count": 33,
     "metadata": {},
     "output_type": "execute_result"
    }
   ],
   "source": [
    "combined_csv"
   ]
  },
  {
   "cell_type": "code",
   "execution_count": 34,
   "metadata": {},
   "outputs": [
    {
     "name": "stdout",
     "output_type": "stream",
     "text": [
      "<class 'pandas.core.frame.DataFrame'>\n",
      "RangeIndex: 44066 entries, 0 to 44065\n",
      "Data columns (total 5 columns):\n",
      "label     44066 non-null int64\n",
      "date      44066 non-null object\n",
      "source    44066 non-null object\n",
      "text      43893 non-null object\n",
      "title     43386 non-null object\n",
      "dtypes: int64(1), object(4)\n",
      "memory usage: 1.7+ MB\n"
     ]
    }
   ],
   "source": [
    "combined_csv.info()"
   ]
  },
  {
   "cell_type": "code",
   "execution_count": 35,
   "metadata": {},
   "outputs": [
    {
     "data": {
      "text/plain": [
       "<matplotlib.axes._subplots.AxesSubplot at 0x1f9831c95c0>"
      ]
     },
     "execution_count": 35,
     "metadata": {},
     "output_type": "execute_result"
    },
    {
     "data": {
      "image/png": "[encoded data removed]",
      "text/plain": [
       "<Figure size 432x288 with 1 Axes>"
      ]
     },
     "metadata": {
      "needs_background": "light"
     },
     "output_type": "display_data"
    }
   ],
   "source": [
    "combined_csv['label'].value_counts().plot.bar()"
   ]
  },
  {
   "cell_type": "code",
   "execution_count": null,
   "metadata": {},
   "outputs": [],
   "source": []
  }
 ],
 "metadata": {
  "kernelspec": {
   "display_name": "Python 3",
   "language": "python",
   "name": "python3"
  },
  "language_info": {
   "codemirror_mode": {
    "name": "ipython",
    "version": 3
   },
   "file_extension": ".py",
   "mimetype": "text/x-python",
   "name": "python",
   "nbconvert_exporter": "python",
   "pygments_lexer": "ipython3",
   "version": "3.6.7"
  }
 },
 "nbformat": 4,
 "nbformat_minor": 2
}
