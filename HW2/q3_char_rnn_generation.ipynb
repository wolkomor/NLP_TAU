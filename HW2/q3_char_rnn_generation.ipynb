{
  "nbformat": 4,
  "nbformat_minor": 0,
  "metadata": {
    "anaconda-cloud": {},
    "kernelspec": {
      "display_name": "Python (nlp-hw2-q3)",
      "language": "python",
      "name": "nlp-hw2-q3"
    },
    "language_info": {
      "codemirror_mode": {
        "name": "ipython",
        "version": 3
      },
      "file_extension": ".py",
      "mimetype": "text/x-python",
      "name": "python",
      "nbconvert_exporter": "python",
      "pygments_lexer": "ipython3",
      "version": "3.7.0"
    },
    "pycharm": {
      "stem_cell": {
        "cell_type": "raw",
        "metadata": {
          "collapsed": false
        },
        "source": []
      }
    },
    "colab": {
      "name": "q3_char-rnn-generation.ipynb",
      "provenance": [],
      "collapsed_sections": [],
      "include_colab_link": true
    }
  },
  "cells": [
    {
      "cell_type": "markdown",
      "metadata": {
        "id": "view-in-github",
        "colab_type": "text"
      },
      "source": [
        "<a href=\"https://colab.research.google.com/github/wolkomor/NLP_TAU/blob/master/HW2/q3_char_rnn_generation.ipynb\" target=\"_parent\"><img src=\"https://colab.research.google.com/assets/colab-badge.svg\" alt=\"Open In Colab\"/></a>"
      ]
    },
    {
      "cell_type": "markdown",
      "metadata": {
        "id": "2ioAe5jRyxKL",
        "colab_type": "text"
      },
      "source": [
        "### Submission Instructions:\n",
        "1. **Restart the kernel** (in the menubar, select Runtime$\\rightarrow$Restart runtime)\n",
        "2. **Run all cells** (in the menubar, select Runtime$\\rightarrow$Run All).\n",
        "3. **Download the notebook** (in the menubar, select File$\\rightarrow$Download .ipynb)\n",
        "4. **Add the downloaded notebook (.ipynb file) to the submission zip**.\n",
        "\n",
        "Make sure you fill in any place that says `YOUR CODE HERE` or \"**WRITE YOUR ANSWER IN THIS CELL**\", and that no tests fail.  \n",
        "Write the IDs of all group members in the cell below. Leave any surplus IDs as `\"\"`."
      ]
    },
    {
      "cell_type": "markdown",
      "metadata": {
        "id": "jpzjm6glyxKN",
        "colab_type": "text"
      },
      "source": [
        "ID1 = 308402163\n",
        "ID2 = 204351019  \n"
      ]
    },
    {
      "cell_type": "markdown",
      "metadata": {
        "id": "g1IG_nhFyxKO",
        "colab_type": "text"
      },
      "source": [
        "---"
      ]
    },
    {
      "cell_type": "markdown",
      "metadata": {
        "deletable": false,
        "editable": false,
        "nbgrader": {
          "cell_type": "markdown",
          "checksum": "5493400e8b7f9a8e2cde874866d4fa7f",
          "grade": false,
          "grade_id": "cell-3a1bca1dbb7d0069",
          "locked": true,
          "schema_version": 3,
          "solution": false,
          "task": false
        },
        "id": "0YQnIO6dyxKO",
        "colab_type": "text"
      },
      "source": [
        "![shakespeare](https://i.imgur.com/81YZuel.jpg)\n",
        "\n",
        "# Generating Shakespeare Using a Character-level Language Model\n",
        "\n",
        "### From Words to Characters\n",
        "In the previous two sections we dealt with word-level language models. But looking again at section 2, there is nothing that constraints us to using _words_ as the basic elemnents in our model. The model we analyzed in section 2 could just as well be character-based - just replace \"word\" with \"character\", and you are good to go. In this notebook we will train a small character-based language model that will help us generate Shakespearean-like (emphasis on the _like_...) texts."
      ]
    },
    {
      "cell_type": "markdown",
      "metadata": {
        "deletable": false,
        "editable": false,
        "nbgrader": {
          "cell_type": "markdown",
          "checksum": "9af7a343d0e3524c3fd846d987d766a8",
          "grade": false,
          "grade_id": "cell-7301754e4d655d01",
          "locked": true,
          "schema_version": 3,
          "solution": false,
          "task": false
        },
        "id": "qDb6LzkzyxKP",
        "colab_type": "text"
      },
      "source": [
        "### Question 3.a\n",
        "Can you think of an advantage a character-based language model could have over a word-based language model? _(You might find question 2.c useful)_. And what about the other way around: can you think of an advantage a word-based language model could have over a character-based language model?"
      ]
    },
    {
      "cell_type": "markdown",
      "metadata": {
        "deletable": false,
        "nbgrader": {
          "cell_type": "markdown",
          "checksum": "eb742db028fffc9c69d14202fc1e24bd",
          "grade": true,
          "grade_id": "cell-e19646c939692ee9",
          "locked": false,
          "points": 4,
          "schema_version": 3,
          "solution": true,
          "task": false
        },
        "id": "vL-FK3-RyxKQ",
        "colab_type": "text"
      },
      "source": [
        "**WRITE YOUR ANSWER IN THIS CELL**\n",
        "\n",
        "Word-based model - not Gibberish words in generated text. \n"
      ]
    },
    {
      "cell_type": "markdown",
      "metadata": {
        "deletable": false,
        "editable": false,
        "nbgrader": {
          "cell_type": "markdown",
          "checksum": "d46a8dfd340b8f68e51a041307f7d7d3",
          "grade": false,
          "grade_id": "cell-ebc0d8ae3061c0fc",
          "locked": true,
          "schema_version": 3,
          "solution": false,
          "task": false
        },
        "id": "3YL64nZmyxKQ",
        "colab_type": "text"
      },
      "source": [
        "### Using PyTorch\n",
        "\n",
        "We'll build our language model using PyTorch. PyTorch is a [very popular](https://thegradient.pub/state-of-ml-frameworks-2019-pytorch-dominates-research-tensorflow-dominates-industry/) open-source machine learning (and deep learning) framework developed by Facebook. In short:\n",
        "\n",
        "> Pytorch is a Python-based scientific computing package targeted at two sets of audiences:\n",
        "* A replacement for NumPy to use the power of GPUs\n",
        "* A deep learning research platform that provides maximum flexibility and speed\n",
        "\n",
        "To get familiar with PyTorch, check out this [quick tutorial](https://pytorch.org/tutorials/beginner/blitz/tensor_tutorial.html). In addition, another imporant difference from numpy is that PyTorch can automatically calculate the gradients needed for backpropagation, as explained [here](https://pytorch.org/tutorials/beginner/blitz/autograd_tutorial.html)."
      ]
    },
    {
      "cell_type": "markdown",
      "metadata": {
        "deletable": false,
        "editable": false,
        "nbgrader": {
          "cell_type": "markdown",
          "checksum": "02af8a21a2e8fae58d84f915de5b016d",
          "grade": false,
          "grade_id": "cell-aa2773db1bef7014",
          "locked": true,
          "schema_version": 3,
          "solution": false,
          "task": false
        },
        "id": "iQVJt2VsyxKR",
        "colab_type": "text"
      },
      "source": [
        "### Preparing the Data\n",
        "\n",
        "Our dataset is a plain text file. For simplicity, we turn any potential unicode characters into plain ASCII by using the `unidecode` package."
      ]
    },
    {
      "cell_type": "code",
      "metadata": {
        "id": "1eL56o_yzJ4j",
        "colab_type": "code",
        "outputId": "079dfb05-b435-4f92-a08a-fc577e923d9e",
        "colab": {
          "base_uri": "https://localhost:8080/",
          "height": 124
        }
      },
      "source": [
        "!pip install unidecode"
      ],
      "execution_count": 0,
      "outputs": [
        {
          "output_type": "stream",
          "text": [
            "Collecting unidecode\n",
            "\u001b[?25l  Downloading https://files.pythonhosted.org/packages/d0/42/d9edfed04228bacea2d824904cae367ee9efd05e6cce7ceaaedd0b0ad964/Unidecode-1.1.1-py2.py3-none-any.whl (238kB)\n",
            "\r\u001b[K     |█▍                              | 10kB 17.7MB/s eta 0:00:01\r\u001b[K     |██▊                             | 20kB 6.0MB/s eta 0:00:01\r\u001b[K     |████▏                           | 30kB 8.4MB/s eta 0:00:01\r\u001b[K     |█████▌                          | 40kB 5.3MB/s eta 0:00:01\r\u001b[K     |██████▉                         | 51kB 6.5MB/s eta 0:00:01\r\u001b[K     |████████▎                       | 61kB 7.5MB/s eta 0:00:01\r\u001b[K     |█████████▋                      | 71kB 8.5MB/s eta 0:00:01\r\u001b[K     |███████████                     | 81kB 9.5MB/s eta 0:00:01\r\u001b[K     |████████████▍                   | 92kB 10.5MB/s eta 0:00:01\r\u001b[K     |█████████████▊                  | 102kB 8.5MB/s eta 0:00:01\r\u001b[K     |███████████████▏                | 112kB 8.5MB/s eta 0:00:01\r\u001b[K     |████████████████▌               | 122kB 8.5MB/s eta 0:00:01\r\u001b[K     |█████████████████▉              | 133kB 8.5MB/s eta 0:00:01\r\u001b[K     |███████████████████▎            | 143kB 8.5MB/s eta 0:00:01\r\u001b[K     |████████████████████▋           | 153kB 8.5MB/s eta 0:00:01\r\u001b[K     |██████████████████████          | 163kB 8.5MB/s eta 0:00:01\r\u001b[K     |███████████████████████▍        | 174kB 8.5MB/s eta 0:00:01\r\u001b[K     |████████████████████████▊       | 184kB 8.5MB/s eta 0:00:01\r\u001b[K     |██████████████████████████▏     | 194kB 8.5MB/s eta 0:00:01\r\u001b[K     |███████████████████████████▌    | 204kB 8.5MB/s eta 0:00:01\r\u001b[K     |████████████████████████████▉   | 215kB 8.5MB/s eta 0:00:01\r\u001b[K     |██████████████████████████████▎ | 225kB 8.5MB/s eta 0:00:01\r\u001b[K     |███████████████████████████████▋| 235kB 8.5MB/s eta 0:00:01\r\u001b[K     |████████████████████████████████| 245kB 8.5MB/s \n",
            "\u001b[?25hInstalling collected packages: unidecode\n",
            "Successfully installed unidecode-1.1.1\n"
          ],
          "name": "stdout"
        }
      ]
    },
    {
      "cell_type": "code",
      "metadata": {
        "id": "FZva7BDJz4Nk",
        "colab_type": "code",
        "outputId": "15544bee-d442-4507-9117-2e21addfb5d5",
        "colab": {
          "base_uri": "https://localhost:8080/",
          "height": 124
        }
      },
      "source": [
        "from google.colab import drive\n",
        "drive.mount('/content/drive')"
      ],
      "execution_count": 0,
      "outputs": [
        {
          "output_type": "stream",
          "text": [
            "Go to this URL in a browser: https://accounts.google.com/o/oauth2/auth?client_id=947318989803-6bn6qk8qdgf4n4g3pfee6491hc0brc4i.apps.googleusercontent.com&redirect_uri=urn%3aietf%3awg%3aoauth%3a2.0%3aoob&response_type=code&scope=email%20https%3a%2f%2fwww.googleapis.com%2fauth%2fdocs.test%20https%3a%2f%2fwww.googleapis.com%2fauth%2fdrive%20https%3a%2f%2fwww.googleapis.com%2fauth%2fdrive.photos.readonly%20https%3a%2f%2fwww.googleapis.com%2fauth%2fpeopleapi.readonly\n",
            "\n",
            "Enter your authorization code:\n",
            "··········\n",
            "Mounted at /content/drive\n"
          ],
          "name": "stdout"
        }
      ]
    },
    {
      "cell_type": "code",
      "metadata": {
        "id": "ZSUY2aI-1Da4",
        "colab_type": "code",
        "outputId": "b7a8e835-d4e9-4ef5-9520-841cfc53ae52",
        "colab": {
          "base_uri": "https://localhost:8080/",
          "height": 35
        }
      },
      "source": [
        "cd '/content/drive/My Drive/Colab Notebooks/'"
      ],
      "execution_count": 0,
      "outputs": [
        {
          "output_type": "stream",
          "text": [
            "/content/drive/My Drive/Colab Notebooks\n"
          ],
          "name": "stdout"
        }
      ]
    },
    {
      "cell_type": "code",
      "metadata": {
        "deletable": false,
        "editable": false,
        "nbgrader": {
          "cell_type": "code",
          "checksum": "ef0359e8c08b2057771c115150011e7e",
          "grade": false,
          "grade_id": "cell-cce75419c097f3fd",
          "locked": true,
          "schema_version": 3,
          "solution": false,
          "task": false
        },
        "pycharm": {
          "is_executing": false
        },
        "id": "zJck8ViDyxKT",
        "colab_type": "code",
        "outputId": "70783abf-55d4-4d79-a57e-5116111301a1",
        "colab": {
          "base_uri": "https://localhost:8080/",
          "height": 35
        }
      },
      "source": [
        "import string\n",
        "import random\n",
        "import re\n",
        "\n",
        "import unidecode\n",
        "\n",
        "all_characters = string.printable\n",
        "n_characters = len(all_characters)  # our vocabulary size (|V| from the handout)\n",
        "\n",
        "dataset_as_string = unidecode.unidecode(open('data/shakespeare.txt').read())\n",
        "n_chars_in_dataset = len(dataset_as_string)\n",
        "print(f'Total number of characters in our dataset: {n_chars_in_dataset}')"
      ],
      "execution_count": 0,
      "outputs": [
        {
          "output_type": "stream",
          "text": [
            "Total number of characters in our dataset: 1115394\n"
          ],
          "name": "stdout"
        }
      ]
    },
    {
      "cell_type": "markdown",
      "metadata": {
        "deletable": false,
        "editable": false,
        "nbgrader": {
          "cell_type": "markdown",
          "checksum": "06dd2ac91a6296206475c7e330e53e3d",
          "grade": false,
          "grade_id": "cell-d795f907dd7922f3",
          "locked": true,
          "schema_version": 3,
          "solution": false,
          "task": false
        },
        "id": "Rr3hy-GxyxKV",
        "colab_type": "text"
      },
      "source": [
        "To make inputs out of this big string of text, we will split it into chunks."
      ]
    },
    {
      "cell_type": "code",
      "metadata": {
        "deletable": false,
        "editable": false,
        "nbgrader": {
          "cell_type": "code",
          "checksum": "61947ad22fb7f16eba246d47ab8cae22",
          "grade": false,
          "grade_id": "cell-379f229536dae19b",
          "locked": true,
          "schema_version": 3,
          "solution": false,
          "task": false
        },
        "pycharm": {
          "is_executing": false
        },
        "id": "vjKfxl2VyxKV",
        "colab_type": "code",
        "outputId": "105861a8-9a3f-4892-81f0-41eab259fc04",
        "colab": {
          "base_uri": "https://localhost:8080/",
          "height": 225
        }
      },
      "source": [
        "chunk_len = 400\n",
        "\n",
        "def random_chunk():\n",
        "    start_index = random.randint(0, n_chars_in_dataset - chunk_len)\n",
        "    end_index = start_index + chunk_len + 1\n",
        "    return dataset_as_string[start_index:end_index]\n",
        "\n",
        "print(random_chunk())"
      ],
      "execution_count": 0,
      "outputs": [
        {
          "output_type": "stream",
          "text": [
            "having France thy friend, thou shalt not dread\n",
            "The scatter'd foe that hopes to rise again;\n",
            "For though they cannot greatly sting to hurt,\n",
            "Yet look to have them buzz to offend thine ears.\n",
            "First will I see the coronation;\n",
            "And then to Brittany I'll cross the sea,\n",
            "To effect this marriage, so it please my lord.\n",
            "\n",
            "EDWARD:\n",
            "Even as thou wilt, sweet Warwick, let it be;\n",
            "For in thy shoulder do I build my seat,\n",
            "\n"
          ],
          "name": "stdout"
        }
      ]
    },
    {
      "cell_type": "markdown",
      "metadata": {
        "deletable": false,
        "editable": false,
        "nbgrader": {
          "cell_type": "markdown",
          "checksum": "ba5d4900ff254fa335fe935962878c8d",
          "grade": false,
          "grade_id": "cell-fcbb2d73f4e442fb",
          "locked": true,
          "schema_version": 3,
          "solution": false,
          "task": false
        },
        "id": "9E0Zwvl5yxKX",
        "colab_type": "text"
      },
      "source": [
        "### Building Our Model\n",
        "\n",
        "Our model consists of three main components:\n",
        "\n",
        "1. [**Embedding**](https://pytorch.org/docs/stable/nn.html#embedding). A mapping between characters and their learned representations (\"word vectors\") \\[correspoding to ${\\boldsymbol L}$ in terms of the handout\\]\n",
        "2. [**GRU**](https://pytorch.org/docs/stable/nn.html#gru). \\[correspoding to the computation of ${\\boldsymbol h}^{(t)}$ in terms of the handout\\]\n",
        "3. **Output Layer**. A feed-forward neural network that transforms a hidden state at a timestep into a probability distribution of the next character. \\[correspoding to the computation of $\\hat{\\boldsymbol y}^{(t)}$ in terms of the handout\\] "
      ]
    },
    {
      "cell_type": "markdown",
      "metadata": {
        "id": "peQLqmOjyxKX",
        "colab_type": "text"
      },
      "source": [
        "### Question 3.b\n",
        "Complete the implementation of the `forward` method of our model."
      ]
    },
    {
      "cell_type": "code",
      "metadata": {
        "deletable": false,
        "nbgrader": {
          "cell_type": "code",
          "checksum": "a9ad1239fcd5aec23f439249397895ec",
          "grade": false,
          "grade_id": "cell-1640492438386e87",
          "locked": false,
          "schema_version": 3,
          "solution": true,
          "task": false
        },
        "pycharm": {
          "is_executing": false
        },
        "id": "YbTECQvKyxKY",
        "colab_type": "code",
        "colab": {}
      },
      "source": [
        "import torch\n",
        "import torch.nn as nn\n",
        "from torch.autograd import Variable\n",
        "\n",
        "class OurModel(nn.Module):\n",
        "    def __init__(self, input_size, hidden_size, output_size, num_layers=1):\n",
        "        super(OurModel, self).__init__()\n",
        "        self.input_size = input_size\n",
        "        self.hidden_size = hidden_size\n",
        "        self.output_size = output_size\n",
        "        self.num_layers = num_layers\n",
        "        \n",
        "        self.embedding = nn.Embedding(input_size, hidden_size)  # In the terms of the handout, here d = D_h\n",
        "        self.gru = nn.GRU(hidden_size, hidden_size, num_layers)\n",
        "        self.output_layer = nn.Linear(hidden_size, output_size)\n",
        "    \n",
        "    def forward(self, input_, hidden):\n",
        "        # General instructions:\n",
        "        # Pass the embedded input through the GRU and use the output layer to get the next character distribution.\n",
        "        # return that distribution and the next hidden state.\n",
        "        # You may need to play around with the dimensions a bit until you get it right. Dimension-induced frustration is good for you!\n",
        "        # -------------------------\n",
        "        # YOUR CODE HERE\n",
        "        emb = self.embedding(input_)\n",
        "        output,hidden = self.gru(emb.view(-1, 1, self.hidden_size),hidden)\n",
        "        output = self.output_layer(output.view(-1, self.hidden_size))\n",
        "        # -------------------------\n",
        "        return output, hidden\n",
        "\n",
        "    def init_hidden(self):\n",
        "        return Variable(torch.zeros(self.num_layers, 1, self.hidden_size))"
      ],
      "execution_count": 0,
      "outputs": []
    },
    {
      "cell_type": "markdown",
      "metadata": {
        "deletable": false,
        "editable": false,
        "nbgrader": {
          "cell_type": "markdown",
          "checksum": "da793a49917dc4882e7e70f04d07a777",
          "grade": false,
          "grade_id": "cell-b9299fddeb082b4e",
          "locked": true,
          "schema_version": 3,
          "solution": false,
          "task": false
        },
        "id": "AZLem-9tyxKa",
        "colab_type": "text"
      },
      "source": [
        "### Creating the Training Examples"
      ]
    },
    {
      "cell_type": "markdown",
      "metadata": {
        "deletable": false,
        "editable": false,
        "nbgrader": {
          "cell_type": "markdown",
          "checksum": "f6eaeb80c370b32f26eda2ac1be57444",
          "grade": false,
          "grade_id": "cell-83bf9e1b0374206c",
          "locked": true,
          "schema_version": 3,
          "solution": false,
          "task": false
        },
        "id": "mYIQ9oFOyxKa",
        "colab_type": "text"
      },
      "source": [
        "Each chunk will be turned into a tensor by looping through the characters of the string and looking up the index of each character in `all_characters`."
      ]
    },
    {
      "cell_type": "code",
      "metadata": {
        "deletable": false,
        "editable": false,
        "nbgrader": {
          "cell_type": "code",
          "checksum": "cc87bca342db2fde1b3957f48bcfe857",
          "grade": false,
          "grade_id": "cell-5360afdd0b03b1f4",
          "locked": true,
          "schema_version": 3,
          "solution": false,
          "task": false
        },
        "pycharm": {
          "is_executing": false
        },
        "id": "9DVgSRN8yxKb",
        "colab_type": "code",
        "outputId": "92fe333f-0210-4c5c-ca0e-91dbe54cc56a",
        "colab": {
          "base_uri": "https://localhost:8080/",
          "height": 35
        }
      },
      "source": [
        "# Turn a string into list of longs\n",
        "def chars_to_tensor(string):\n",
        "    tensor = torch.zeros(len(string)).long()\n",
        "    for c in range(len(string)):\n",
        "        tensor[c] = all_characters.index(string[c])\n",
        "    return Variable(tensor)\n",
        "\n",
        "print(chars_to_tensor('abcDEF'))"
      ],
      "execution_count": 0,
      "outputs": [
        {
          "output_type": "stream",
          "text": [
            "tensor([10, 11, 12, 39, 40, 41])\n"
          ],
          "name": "stdout"
        }
      ]
    },
    {
      "cell_type": "markdown",
      "metadata": {
        "deletable": false,
        "editable": false,
        "nbgrader": {
          "cell_type": "markdown",
          "checksum": "32c02aa64cee9046c2917487ac982de0",
          "grade": false,
          "grade_id": "cell-6e7b3d9e8c9396bb",
          "locked": true,
          "schema_version": 3,
          "solution": false,
          "task": false
        },
        "id": "oiIAl5PryxKc",
        "colab_type": "text"
      },
      "source": [
        "Each training example for our model will be created from a chunk randomly extracted from our shakespeare dataset. For example, if we set our chunk size to be 28, then a randomly extracted chunk could be $\\texttt{As deep as that, though true}$. Each training example is of a form $(\\textbf{x},\\textbf{y})$ where $\\textbf{x}$ is all the charecters of the chunk *except the last* and $\\textbf{y}$ is all the charecters of the chunk *except the first*. For example, given the chunk above, $\\textbf{x}=\\texttt{As deep as that, though tru}$ and $\\textbf{y}=\\texttt{s deep as that, though true}$. At timestep i our input is $\\textbf{x}^{(i)}$ and the gold label our model will try to predict is $\\textbf{y}^{(i)}$."
      ]
    },
    {
      "cell_type": "code",
      "metadata": {
        "deletable": false,
        "editable": false,
        "nbgrader": {
          "cell_type": "code",
          "checksum": "f159d648c0ab9ffbdc096aeac6905a57",
          "grade": false,
          "grade_id": "cell-d3539c5f1d96a188",
          "locked": true,
          "schema_version": 3,
          "solution": false,
          "task": false
        },
        "pycharm": {
          "is_executing": false
        },
        "id": "dbKWx_vmyxKd",
        "colab_type": "code",
        "colab": {}
      },
      "source": [
        "def random_training_example():    \n",
        "    chunk = random_chunk()\n",
        "    inp = chars_to_tensor(chunk[:-1])\n",
        "    target = chars_to_tensor(chunk[1:])\n",
        "    return inp, target"
      ],
      "execution_count": 0,
      "outputs": []
    },
    {
      "cell_type": "markdown",
      "metadata": {
        "deletable": false,
        "editable": false,
        "nbgrader": {
          "cell_type": "markdown",
          "checksum": "18a6bf800d9bc590739b15ba01dda408",
          "grade": false,
          "grade_id": "cell-16d13f3b273395ac",
          "locked": true,
          "schema_version": 3,
          "solution": false,
          "task": false
        },
        "id": "WaPvJR72yxKe",
        "colab_type": "text"
      },
      "source": [
        "### Evaluating\n",
        "\n",
        "To evaluate the network we will feed one character at a time, use the outputs of the network as a probability distribution for the next character, and repeat. To start generation we pass a priming string to start building up the hidden state, from which we then generate one character at a time."
      ]
    },
    {
      "cell_type": "code",
      "metadata": {
        "deletable": false,
        "editable": false,
        "nbgrader": {
          "cell_type": "code",
          "checksum": "a47c721a818979b886f119401206e756",
          "grade": false,
          "grade_id": "cell-44ab27a8fee696ad",
          "locked": true,
          "schema_version": 3,
          "solution": false,
          "task": false
        },
        "pycharm": {
          "is_executing": false
        },
        "id": "1m-kIn2zyxKf",
        "colab_type": "code",
        "colab": {}
      },
      "source": [
        "import torch.nn.functional as F\n",
        "\n",
        "def evaluate(prime_str='A', predict_len=100, temperature=0.8):\n",
        "    hidden = model.init_hidden()\n",
        "    prime_input = chars_to_tensor(prime_str)\n",
        "    predicted = prime_str\n",
        "\n",
        "    # Use priming string to \"build up\" hidden state\n",
        "    for p in range(len(prime_str) - 1):\n",
        "        _, hidden = model(prime_input[p], hidden)\n",
        "    inp = prime_input[-1]\n",
        "    \n",
        "    for p in range(predict_len):\n",
        "        output, hidden = model(inp, hidden)\n",
        "        \n",
        "        # Sample from the network as a multinomial distribution\n",
        "        output_dist =  F.softmax(output / temperature, dim=-1)\n",
        "        top_i = torch.multinomial(output_dist, 1)[0]\n",
        "        \n",
        "        # Add predicted character to string and use as next input\n",
        "        predicted_char = all_characters[top_i]\n",
        "        predicted += predicted_char\n",
        "        inp = chars_to_tensor(predicted_char)\n",
        "\n",
        "    return predicted"
      ],
      "execution_count": 0,
      "outputs": []
    },
    {
      "cell_type": "markdown",
      "metadata": {
        "deletable": false,
        "editable": false,
        "nbgrader": {
          "cell_type": "markdown",
          "checksum": "3fffa10554299eaae14cc007fea3935a",
          "grade": false,
          "grade_id": "cell-1d3fd015fe8f64d1",
          "locked": true,
          "schema_version": 3,
          "solution": false,
          "task": false
        },
        "id": "7jI5dpEryxKh",
        "colab_type": "text"
      },
      "source": [
        "### Training"
      ]
    },
    {
      "cell_type": "markdown",
      "metadata": {
        "deletable": false,
        "editable": false,
        "nbgrader": {
          "cell_type": "markdown",
          "checksum": "8a98218b35f47137eeba1ba1aead0700",
          "grade": false,
          "grade_id": "cell-a209b293a8850a57",
          "locked": true,
          "schema_version": 3,
          "solution": false,
          "task": false
        },
        "id": "VZlPcu70yxKi",
        "colab_type": "text"
      },
      "source": [
        "The main training function"
      ]
    },
    {
      "cell_type": "code",
      "metadata": {
        "deletable": false,
        "editable": false,
        "nbgrader": {
          "cell_type": "code",
          "checksum": "eb3bfcd4d49b2f2672447d8c65b6cb05",
          "grade": false,
          "grade_id": "cell-e246cbd9689e1a6d",
          "locked": true,
          "schema_version": 3,
          "solution": false,
          "task": false
        },
        "pycharm": {
          "is_executing": false
        },
        "id": "Ciz-iT-EyxKk",
        "colab_type": "code",
        "colab": {}
      },
      "source": [
        "def train(inp, target):\n",
        "    hidden = model.init_hidden()\n",
        "    model.zero_grad()\n",
        "    loss = 0\n",
        "\n",
        "    for c in range(chunk_len):\n",
        "        output, hidden = model(inp[c], hidden)\n",
        "        loss += criterion(output, target[c].view(-1))\n",
        "\n",
        "    loss.backward()\n",
        "    optimizer.step()\n",
        "\n",
        "    return loss.item() / chunk_len"
      ],
      "execution_count": 0,
      "outputs": []
    },
    {
      "cell_type": "markdown",
      "metadata": {
        "deletable": false,
        "editable": false,
        "nbgrader": {
          "cell_type": "markdown",
          "checksum": "bfb863e279db4b170c35d8d0c7a37a1f",
          "grade": false,
          "grade_id": "cell-05ce9b9275e0d1cc",
          "locked": true,
          "schema_version": 3,
          "solution": false,
          "task": false
        },
        "id": "oVCYnfPfyxKm",
        "colab_type": "text"
      },
      "source": [
        "A helper to print the amount of time passed:"
      ]
    },
    {
      "cell_type": "code",
      "metadata": {
        "deletable": false,
        "editable": false,
        "nbgrader": {
          "cell_type": "code",
          "checksum": "16d7b53f211a6a1bef71c1dd2d1271cf",
          "grade": false,
          "grade_id": "cell-cb78afef7022f9a1",
          "locked": true,
          "schema_version": 3,
          "solution": false,
          "task": false
        },
        "pycharm": {
          "is_executing": false
        },
        "id": "ahSNOP6yyxKm",
        "colab_type": "code",
        "colab": {}
      },
      "source": [
        "import time, math\n",
        "\n",
        "def time_since(since):\n",
        "    s = time.time() - since\n",
        "    m = math.floor(s / 60)\n",
        "    s -= m * 60\n",
        "    return f'{m}m {math.floor(s)}s'"
      ],
      "execution_count": 0,
      "outputs": []
    },
    {
      "cell_type": "code",
      "metadata": {
        "deletable": false,
        "editable": false,
        "nbgrader": {
          "cell_type": "code",
          "checksum": "2b368f1767ddd0eddca44249fa47ed32",
          "grade": true,
          "grade_id": "cell-98f46bec0b8c87cc",
          "locked": true,
          "points": 10,
          "schema_version": 3,
          "solution": false,
          "task": false
        },
        "id": "2hBq63iyyxKo",
        "colab_type": "code",
        "colab": {}
      },
      "source": [
        "# DO NOT DELETE THIS CELL\n"
      ],
      "execution_count": 0,
      "outputs": []
    },
    {
      "cell_type": "markdown",
      "metadata": {
        "deletable": false,
        "editable": false,
        "nbgrader": {
          "cell_type": "markdown",
          "checksum": "98abd7dd7805753c2e7b635f1265cb73",
          "grade": false,
          "grade_id": "cell-baf25642209867dc",
          "locked": true,
          "schema_version": 3,
          "solution": false,
          "task": false
        },
        "id": "gYAFxjLhyxKq",
        "colab_type": "text"
      },
      "source": [
        "Define the training parameters, instantiate the model, and start training:"
      ]
    },
    {
      "cell_type": "code",
      "metadata": {
        "deletable": false,
        "editable": false,
        "nbgrader": {
          "cell_type": "code",
          "checksum": "b7392249521c153ef4d7713eecb8204a",
          "grade": false,
          "grade_id": "cell-4900f92ae503be69",
          "locked": true,
          "schema_version": 3,
          "solution": false,
          "task": false
        },
        "pycharm": {
          "is_executing": false
        },
        "id": "iCFtIGjbyxKq",
        "colab_type": "code",
        "outputId": "f06b7cbe-5fdb-41d3-8f0c-f4b67377f87d",
        "colab": {
          "base_uri": "https://localhost:8080/",
          "height": 1000
        }
      },
      "source": [
        "n_iterations = 2000\n",
        "print_every = 100\n",
        "plot_every = 10\n",
        "hidden_size = 100  # (D_h from the handout)\n",
        "num_layers = 1\n",
        "lr = 0.005\n",
        "\n",
        "model = OurModel(n_characters, hidden_size, n_characters, num_layers)\n",
        "optimizer = torch.optim.Adam(model.parameters(), lr=lr)\n",
        "criterion = nn.CrossEntropyLoss()\n",
        "\n",
        "start = time.time()\n",
        "all_losses = []\n",
        "loss_avg = 0\n",
        "\n",
        "for iteration in range(1, n_iterations + 1):\n",
        "    loss = train(*random_training_example())       \n",
        "    loss_avg += loss\n",
        "\n",
        "    if iteration % print_every == 0:\n",
        "        print(f'[time elapsed: {time_since(start)}  ;  iterations: {iteration} ({iteration / n_iterations * 100}%)  ;  loss: {loss:.4}]')\n",
        "        print(evaluate('Wh', 200), '\\n')  # generate text starting with 'Wh'\n",
        "\n",
        "    if iteration % plot_every == 0:\n",
        "        all_losses.append(loss_avg / plot_every)\n",
        "        loss_avg = 0"
      ],
      "execution_count": 0,
      "outputs": [
        {
          "output_type": "stream",
          "text": [
            "[time elapsed: 0m 36s  ;  iterations: 100 (5.0%)  ;  loss: 2.29]\n",
            "Wh bround day hare ther stures your, and the Lore hand maird amlo bet by, shen, hare lrors and an cous ning coot uris gely the bem.\n",
            "\n",
            "OUNM O:\n",
            "Non be and me, tos yor that to: bes;\n",
            "Whe bam my and cyou the  \n",
            "\n",
            "[time elapsed: 1m 12s  ;  iterations: 200 (10.0%)  ;  loss: 2.03]\n",
            "Whined it nove nood hesets ou to and filen soll patizem!\n",
            "Or comenof a spanes and thou wollous sond! grane Care of a then ofne mao, it in he lane noty, wereack ill on now porfs; it sonene hear, soo and s \n",
            "\n",
            "[time elapsed: 1m 48s  ;  iterations: 300 (15.0%)  ;  loss: 1.874]\n",
            "Whes my a thean hath mofest nastaindion the cold\n",
            "That, I vire,\n",
            "The know main congoith and not sir that ectas and the sher the in pray gondear I muss cay.\n",
            "For wher my here a has, masts of stoes the dor e \n",
            "\n",
            "[time elapsed: 2m 25s  ;  iterations: 400 (20.0%)  ;  loss: 1.781]\n",
            "Whers, my grove of thy here heap?\n",
            "\n",
            "DUNE Sthou sup,\n",
            "Ware we us to four it whicine hank he holine pratens'd ould reftemen with your his with is coulderee.\n",
            "\n",
            "COMEROUCESTER:\n",
            "For in his his frience him\n",
            "To pre \n",
            "\n",
            "[time elapsed: 3m 1s  ;  iterations: 500 (25.0%)  ;  loss: 1.75]\n",
            "Whave stease aperince: me of heading\n",
            "boloke a chace mean choth latiears.\n",
            "\n",
            "LOUCHENTIO:\n",
            "So cort. I with my the and stand.\n",
            "\n",
            "LABET:\n",
            "What the his shere but I do both it beet, I whorten to is kind Hast shave  \n",
            "\n",
            "[time elapsed: 3m 38s  ;  iterations: 600 (30.0%)  ;  loss: 1.913]\n",
            "Wher of the rames.\n",
            "\n",
            "Sovend prow RUCHENNE:\n",
            "Which he plittely the cack that thee contice:\n",
            "Was not ack as for are ins; mudst their chand thy caps a mead.\n",
            "\n",
            "PISEN:\n",
            "This queensous he apped make aly go\n",
            "gil her \n",
            "\n",
            "[time elapsed: 4m 14s  ;  iterations: 700 (35.0%)  ;  loss: 1.831]\n",
            "Wh speasefor suasander agin come princouds\n",
            "The a liven but to sope inging faurs,\n",
            "As my night to it wiffou ever:\n",
            "Adanters the but not the is thou shere's would this you noth poth\n",
            "Tothing think the his it \n",
            "\n",
            "[time elapsed: 4m 51s  ;  iterations: 800 (40.0%)  ;  loss: 1.801]\n",
            "Whire had hatoe known me frince,\n",
            "But fare propt und, lord?\n",
            "\n",
            "First: but bound off\n",
            "shete with the our prath they mave in using son to may have breetion: I burroung of\n",
            "Becas? I merarter my be mer'd, for ma \n",
            "\n",
            "[time elapsed: 5m 28s  ;  iterations: 900 (45.0%)  ;  loss: 1.848]\n",
            "Wh all congfenty staule's this him,\n",
            "Betle trure te spervench ever light my this be the is not us thente:\n",
            "And have thinks, fielf this artal\n",
            "Come the was this leve true dit of the I saytion wads\n",
            "Bit in th \n",
            "\n",
            "[time elapsed: 6m 4s  ;  iterations: 1000 (50.0%)  ;  loss: 1.939]\n",
            "Wher stand'd your.\n",
            "\n",
            "LINGET:\n",
            "You, my brople our so with with for may Marnide: saplunce this men\n",
            "The for you sir not, moring is please.\n",
            "\n",
            "Mike:\n",
            "They the you with your so consting,\n",
            "Hen, and solatior her it  \n",
            "\n",
            "[time elapsed: 6m 41s  ;  iterations: 1100 (55.00000000000001%)  ;  loss: 1.879]\n",
            "Whot the forthiry\n",
            "And: of flature cire seft well Porrord.\n",
            "\n",
            "CLORIZEL:\n",
            "Well your me, who evers nother,\n",
            "And me, lile able!\n",
            "Stweet cost he proverly to hage that fratee\n",
            "os fabullo congeat bettare.\n",
            "\n",
            "PRONIUS:\n",
            " \n",
            "\n",
            "[time elapsed: 7m 18s  ;  iterations: 1200 (60.0%)  ;  loss: 1.535]\n",
            "Whick befeak the can day.\n",
            "\n",
            "BIONDIUS:\n",
            "To have dear staw, hes true cleam, tell:\n",
            "I wistlest have with the fors a bettle ta farest.\n",
            "\n",
            "KING LENA:\n",
            "You say, for coult to exter.\n",
            "\n",
            "PERCICIA:\n",
            "Ao, go with undeist ve \n",
            "\n",
            "[time elapsed: 7m 54s  ;  iterations: 1300 (65.0%)  ;  loss: 1.577]\n",
            "Which agad come as as ton, and jead, them:\n",
            "\n",
            "BUCKINGHAM:\n",
            "Whor cromed the, I canger mest my cnown aldst\n",
            "The shall go which croir, you, back to may betting the do,\n",
            "Thou more then to long shor Edward:\n",
            "Thim. \n",
            "\n",
            "[time elapsed: 8m 31s  ;  iterations: 1400 (70.0%)  ;  loss: 1.921]\n",
            "Wher.\n",
            "\n",
            "ROLICHUS:\n",
            "He chame you was to they blow for to heir all is creace\n",
            "And help, hope heesin the's of entlest too newancelo's:\n",
            "In my heart; there the say not in me retich'd\n",
            "The blood blouce these live \n",
            "\n",
            "[time elapsed: 9m 8s  ;  iterations: 1500 (75.0%)  ;  loss: 1.642]\n",
            "What do the blood and.\n",
            "\n",
            "CAPEY:\n",
            "That that some a would,\n",
            "And Frie less a drate and thoud of What soll:\n",
            "The he with grow, are how brought it plack:\n",
            "What's that to to have plats, their a caum; and him shall \n",
            "\n",
            "[time elapsed: 9m 45s  ;  iterations: 1600 (80.0%)  ;  loss: 1.792]\n",
            "Wher to thou shall a mander disme\n",
            "And tedess onen mein you so beous;\n",
            "To have love of that my ford oldilt,\n",
            "I will to his faite all a dead-dound bet;\n",
            "Hath wasse of you now, as my lear.\n",
            "\n",
            "DORCS:\n",
            "I'll not yo \n",
            "\n",
            "[time elapsed: 10m 21s  ;  iterations: 1700 (85.0%)  ;  loss: 1.577]\n",
            "Where are shere deny!\n",
            "\n",
            "CLATHAUS:\n",
            "I have the deather! him him dindon.\n",
            "\n",
            "Sises.\n",
            "\n",
            "KING RICHARD III:\n",
            "I pronousa day of mine thmoscaous not\n",
            "Coosta upon thy are discorder befes:\n",
            "That must confelly the did sona \n",
            "\n",
            "[time elapsed: 10m 58s  ;  iterations: 1800 (90.0%)  ;  loss: 1.753]\n",
            "When citters: take prided:\n",
            "Could you might?\n",
            "\n",
            "MIRDA:\n",
            "Seep cather: death mind's prail's them man then:\n",
            "Now thought must it made here remious ert prise\n",
            "This it shame, this affool with the men,\n",
            "And crother  \n",
            "\n",
            "[time elapsed: 11m 34s  ;  iterations: 1900 (95.0%)  ;  loss: 1.411]\n",
            "Wher ween well!\n",
            "\n",
            "MENENIUS:\n",
            "I, breast that that my count that when still\n",
            "not the mane ongus, I tears were were and not.\n",
            "\n",
            "BUCKINGHAM:\n",
            "If me, and were and was have cen,\n",
            "And chantoneited of a shame the swal \n",
            "\n",
            "[time elapsed: 12m 10s  ;  iterations: 2000 (100.0%)  ;  loss: 1.757]\n",
            "Whold and the reing dined\n",
            "Our culd than this for they lits right delves.\n",
            "\n",
            "HENRY BOLINGBROKE:\n",
            "When, wed you is that is contery as grans;\n",
            "And comes it with is the not me but should is\n",
            "Offoit bo with seeme \n",
            "\n"
          ],
          "name": "stdout"
        }
      ]
    },
    {
      "cell_type": "markdown",
      "metadata": {
        "deletable": false,
        "editable": false,
        "nbgrader": {
          "cell_type": "markdown",
          "checksum": "8584d3be75d90a5197e7133411e0021d",
          "grade": false,
          "grade_id": "cell-ff9d72dafefa0a23",
          "locked": true,
          "schema_version": 3,
          "solution": false,
          "task": false
        },
        "id": "2J1BX7siyxKs",
        "colab_type": "text"
      },
      "source": [
        "### Training Loss\n",
        "\n",
        "Plotting the the losses that were computed during training can provide a further indication that the network was indeed learning."
      ]
    },
    {
      "cell_type": "code",
      "metadata": {
        "deletable": false,
        "editable": false,
        "nbgrader": {
          "cell_type": "code",
          "checksum": "77791204e14b67d3ad68d70695c479a6",
          "grade": false,
          "grade_id": "cell-f91bb597844b8f7d",
          "locked": true,
          "schema_version": 3,
          "solution": false,
          "task": false
        },
        "pycharm": {
          "is_executing": false
        },
        "id": "Dxnc6mA0yxKs",
        "colab_type": "code",
        "outputId": "bc098280-e81b-42d5-fcc4-37791fd98472",
        "colab": {
          "base_uri": "https://localhost:8080/",
          "height": 297
        }
      },
      "source": [
        "import matplotlib.pyplot as plt\n",
        "%matplotlib inline\n",
        "\n",
        "plt.grid(True)\n",
        "plt.xlabel('# of iterations (divided by plot_every)')\n",
        "plt.ylabel('average loss')\n",
        "plt.plot(all_losses)"
      ],
      "execution_count": 0,
      "outputs": [
        {
          "output_type": "execute_result",
          "data": {
            "text/plain": [
              "[<matplotlib.lines.Line2D at 0x7f0d0b5d6780>]"
            ]
          },
          "metadata": {
            "tags": []
          },
          "execution_count": 61
        },
        {
          "output_type": "display_data",
          "data": {
            "image/png": "[encoded data removed]",
            "text/plain": [
              "<Figure size 432x288 with 1 Axes>"
            ]
          },
          "metadata": {
            "tags": []
          }
        }
      ]
    },
    {
      "cell_type": "markdown",
      "metadata": {
        "deletable": false,
        "editable": false,
        "nbgrader": {
          "cell_type": "markdown",
          "checksum": "a376c5ed8b8f2dff9ea4731669bc8a49",
          "grade": false,
          "grade_id": "cell-dac1f386e2b526f5",
          "locked": true,
          "schema_version": 3,
          "solution": false,
          "task": false
        },
        "id": "8-3ypyPgyxKt",
        "colab_type": "text"
      },
      "source": [
        "### Evaluating at Different Temperatures\n",
        "Every time we use the `evaluate` function to generate the distribution of the next character, we don't just use softmax as usual, but we also divide by a `temperature`.  \n",
        "Let's examine the effect of changing the temperature when generating text using our trained model:"
      ]
    },
    {
      "cell_type": "code",
      "metadata": {
        "id": "YbhhHx76yxKu",
        "colab_type": "code",
        "outputId": "9f885f17-855e-40e9-df69-44d483935bec",
        "colab": {
          "base_uri": "https://localhost:8080/",
          "height": 159
        }
      },
      "source": [
        "print(evaluate('Th', 400, temperature=0.1))"
      ],
      "execution_count": 0,
      "outputs": [
        {
          "output_type": "stream",
          "text": [
            "The prince the for the sent the well.\n",
            "\n",
            "DUKE VINCENTIO:\n",
            "What the prince the for the for the for the for the for the dear is the for the for the for the for the for the for the for the for the king and the for the for the for the for the dear the for the for the for the for the for the for the for the for the for the for the for the for the for the for the king.\n",
            "\n",
            "DUKE VINCENTIO:\n",
            "What with the propples\n"
          ],
          "name": "stdout"
        }
      ]
    },
    {
      "cell_type": "code",
      "metadata": {
        "id": "17YobD4IyxKv",
        "colab_type": "code",
        "outputId": "8072b14e-8903-4265-b4cd-529494f0d0ef",
        "colab": {
          "base_uri": "https://localhost:8080/",
          "height": 260
        }
      },
      "source": [
        "print(evaluate('Th', 400, temperature=0.5))"
      ],
      "execution_count": 0,
      "outputs": [
        {
          "output_type": "stream",
          "text": [
            "Thard let tister a made here right my come,\n",
            "When you the depose be to fall the conter.\n",
            "\n",
            "KING RICHARD II:\n",
            "And death is strike the for me me he may not mard:\n",
            "For my chath with the report her her I suppire\n",
            "All then the right her put the hearts man.\n",
            "\n",
            "ESCALUS:\n",
            "Where do my the reselves is to deedion,\n",
            "What the king a warry have be his good grace.\n",
            "\n",
            "DUKE VINCENTIO:\n",
            "What is the with the stally be and his with\n"
          ],
          "name": "stdout"
        }
      ]
    },
    {
      "cell_type": "code",
      "metadata": {
        "id": "M7gAFnHayxKx",
        "colab_type": "code",
        "outputId": "66db3745-3dab-407f-9897-6ccf7c574cb9",
        "colab": {
          "base_uri": "https://localhost:8080/",
          "height": 225
        }
      },
      "source": [
        "print(evaluate('Th', 400, temperature=0.8))  # the default value"
      ],
      "execution_count": 0,
      "outputs": [
        {
          "output_type": "stream",
          "text": [
            "The did arms:\n",
            "Is deast face there for Sit in: and is inthey\n",
            "Give not mistrest one prosster intrust must good.\n",
            "\n",
            "DUKE VINCENTIO:\n",
            "Let the is insumped you as I shall is too:\n",
            "when you shall your despire well for a colds\n",
            "My Lord that be cant gog's but reasin.\n",
            "But in the other to kneage is Luncales, fient there deans,\n",
            "And not may me;\n",
            "Which the deeds to ectry, and a be of Sit,\n",
            "Bit a kitagrand, Jone he is th\n"
          ],
          "name": "stdout"
        }
      ]
    },
    {
      "cell_type": "code",
      "metadata": {
        "id": "AqlIT8k_yxK0",
        "colab_type": "code",
        "outputId": "bc66d017-d46a-4d6e-c140-3146c60ae761",
        "colab": {
          "base_uri": "https://localhost:8080/",
          "height": 433
        }
      },
      "source": [
        "print(evaluate('Th', 400, temperature=1))"
      ],
      "execution_count": 0,
      "outputs": [
        {
          "output_type": "stream",
          "text": [
            "The you sosting York,\n",
            "I wament to you toos well and seigha.\n",
            "\n",
            "BUCKINGHAM:\n",
            "Go, sworg up.\n",
            "\n",
            "LADY.\n",
            "\n",
            "HASTINGS:\n",
            "O you hustime, in he renchar?\n",
            "\n",
            "DIUS:\n",
            "What down tone a plashire, semvoy, mesting; thear?\n",
            "Ought's dructry bother you, fiars, figten--spoth night?\n",
            "\n",
            "CLARET:\n",
            "When me have knot I loves murver?\n",
            "\n",
            "SAPUTIO:\n",
            "Ghind an I dable and his grives is I\n",
            "siry! came he is't it than I this pruthine,\n",
            "Las.\n",
            "\n",
            "Liedow'd cons\n"
          ],
          "name": "stdout"
        }
      ]
    },
    {
      "cell_type": "code",
      "metadata": {
        "id": "ZBq1oZ8AyxK2",
        "colab_type": "code",
        "outputId": "26d0667d-a1d6-47f0-d3d0-7bb9d1986cca",
        "colab": {
          "base_uri": "https://localhost:8080/",
          "height": 399
        }
      },
      "source": [
        "print(evaluate('Th', 400, temperature=1.5))"
      ],
      "execution_count": 0,
      "outputs": [
        {
          "output_type": "stream",
          "text": [
            "Than too ooken.\n",
            "Butunel. In fent imendeop!\n",
            "!istor this meachipdings a quess,\n",
            "We chorses an eal I poie? wet yluw's preat,\n",
            "Toged!\n",
            "\n",
            "Dell:\n",
            "His Datact:\n",
            "Which-caman.\n",
            "But me himherk was!\n",
            "O somgy broidind, what: the mideb.,\n",
            "'hose twest fleg-Our noblve\n",
            "To the bllood migin broude-\n",
            "Ga6'od egs the know I nuttay kings?\n",
            "\n",
            "PLq2OSkURCASS:\n",
            "Lill; divip hicgarbhestas you lont, wood.\n",
            "\n",
            "RUCIO:\n",
            "Rumsms QuUkers.\n",
            "\n",
            "BESVOLOZEME\n"
          ],
          "name": "stdout"
        }
      ]
    },
    {
      "cell_type": "markdown",
      "metadata": {
        "deletable": false,
        "editable": false,
        "nbgrader": {
          "cell_type": "markdown",
          "checksum": "33ad994fe23b1e288fc8ef61422435cd",
          "grade": false,
          "grade_id": "cell-08d4f5f563b097a0",
          "locked": true,
          "schema_version": 3,
          "solution": false,
          "task": false
        },
        "id": "oVvrWHquyxK4",
        "colab_type": "text"
      },
      "source": [
        "### Question 3.c\n",
        "How does the value of `temperature` affect the properties of the generated text?\n",
        "Specifically address the process of sampling a character from the next character distribution, and the effect `temperature` has on it."
      ]
    },
    {
      "cell_type": "markdown",
      "metadata": {
        "deletable": false,
        "nbgrader": {
          "cell_type": "markdown",
          "checksum": "73f841dadc6afd8d63765a083c3f8914",
          "grade": true,
          "grade_id": "cell-bfdb7d9e747067db",
          "locked": false,
          "points": 6,
          "schema_version": 3,
          "solution": true,
          "task": false
        },
        "id": "XxblQzSryxK4",
        "colab_type": "text"
      },
      "source": [
        "As the temperature decrease, the generated text includes repeated words. For example, with  `temperature = 0.1` the words \"for\" and \"the\" appear many time in the generated text, which are very frequent words in the language.\n",
        "As the `temperature` increase, but below 1,  the generated text includes  exsiting words, but still without correct sentence structure that has meaningful. When the `temperature` is higher than 1, the generated text includes both non existing words in English and wrong sentence structure. For example, the word \"hicgarbhestas\" is totally Gibberish.  \n",
        "\n",
        "In conclusion, We notice that as the `temperature` decreases, the distribution becomes more peaky — probabilities that were larger become even larger, and probabilities that were smaller become even smaller. On the other hand, as you increase `temperature`, the distribution becomes flatter — probabilities that were larger become smaller, and probabilities that were smaller become larger.\n",
        "\n"
      ]
    }
  ]
}